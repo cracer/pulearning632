{
 "cells": [
  {
   "cell_type": "code",
   "execution_count": 1,
   "id": "9d05d679",
   "metadata": {},
   "outputs": [],
   "source": [
    "import os, sys, glob\n",
    "import matplotlib.pyplot as plt\n",
    "%matplotlib inline\n",
    "from sklearn.ensemble import RandomForestClassifier\n",
    "from sklearn.metrics import precision_recall_fscore_support\n",
    "from pathlib import Path\n",
    "import pandas as pd\n",
    "import numpy as np"
   ]
  },
  {
   "cell_type": "code",
   "execution_count": 2,
   "id": "d44ff244",
   "metadata": {},
   "outputs": [],
   "source": [
    "path = Path('/home/users/ylavinia/632_pul/pulearn/')"
   ]
  },
  {
   "cell_type": "code",
   "execution_count": 3,
   "id": "02255b33",
   "metadata": {},
   "outputs": [],
   "source": [
    "path_proj = path / 'project'"
   ]
  },
  {
   "cell_type": "code",
   "execution_count": 4,
   "id": "372a71c4",
   "metadata": {},
   "outputs": [
    {
     "data": {
      "text/plain": [
       "PosixPath('/home/users/ylavinia/632_pul/pulearn/project')"
      ]
     },
     "execution_count": 4,
     "metadata": {},
     "output_type": "execute_result"
    }
   ],
   "source": [
    "path_proj"
   ]
  },
  {
   "cell_type": "code",
   "execution_count": 5,
   "id": "5fd72a91",
   "metadata": {},
   "outputs": [],
   "source": [
    "path_caida = path / 'pu_caida' / 'caida_datasets'"
   ]
  },
  {
   "cell_type": "code",
   "execution_count": 6,
   "id": "56b0608e",
   "metadata": {},
   "outputs": [
    {
     "data": {
      "text/plain": [
       "PosixPath('/home/users/ylavinia/632_pul/pulearn/pu_caida/caida_datasets')"
      ]
     },
     "execution_count": 6,
     "metadata": {},
     "output_type": "execute_result"
    }
   ],
   "source": [
    "path_caida"
   ]
  },
  {
   "cell_type": "code",
   "execution_count": 7,
   "id": "c0fcee0a",
   "metadata": {},
   "outputs": [],
   "source": [
    "os.chdir(path_proj)"
   ]
  },
  {
   "cell_type": "code",
   "execution_count": null,
   "id": "9dc21104",
   "metadata": {},
   "outputs": [],
   "source": []
  },
  {
   "cell_type": "code",
   "execution_count": 8,
   "id": "5f295e4a",
   "metadata": {},
   "outputs": [],
   "source": [
    "os.chdir(path_caida)"
   ]
  },
  {
   "cell_type": "code",
   "execution_count": 9,
   "id": "feefc3b5",
   "metadata": {},
   "outputs": [],
   "source": [
    "random_seed = 222"
   ]
  },
  {
   "cell_type": "code",
   "execution_count": 10,
   "id": "17965035",
   "metadata": {},
   "outputs": [],
   "source": [
    "caida_data = glob.glob('*.csv')"
   ]
  },
  {
   "cell_type": "code",
   "execution_count": 11,
   "id": "c5c0659c",
   "metadata": {},
   "outputs": [
    {
     "data": {
      "text/plain": [
       "['218.30.54.57.csv',\n",
       " '64.57.21.53.csv',\n",
       " '113.197.15.146.csv',\n",
       " '134.222.48.230.csv',\n",
       " '129.250.3.27.csv',\n",
       " '218.30.54.56.csv',\n",
       " '196.200.124.26.csv',\n",
       " '196.36.50.153.csv',\n",
       " '129.250.8.42.csv',\n",
       " '10.252.10.254.csv',\n",
       " '129.250.4.33.csv',\n",
       " '113.197.15.56.csv',\n",
       " '134.222.48.232.csv',\n",
       " '134.222.48.200.csv',\n",
       " '129.250.7.33.csv',\n",
       " '128.223.2.58.csv',\n",
       " '62.115.12.52.csv',\n",
       " '134.222.48.14.csv',\n",
       " '129.250.4.118.csv',\n",
       " '129.250.3.121.csv',\n",
       " '129.250.3.103.csv',\n",
       " '129.250.3.48.csv',\n",
       " '129.250.5.32.csv',\n",
       " '134.222.155.84.csv']"
      ]
     },
     "execution_count": 11,
     "metadata": {},
     "output_type": "execute_result"
    }
   ],
   "source": [
    "caida_data"
   ]
  },
  {
   "cell_type": "code",
   "execution_count": 12,
   "id": "c10ad7e5",
   "metadata": {},
   "outputs": [],
   "source": [
    "caida1 = caida_data[0]"
   ]
  },
  {
   "cell_type": "code",
   "execution_count": 13,
   "id": "a218d18b",
   "metadata": {},
   "outputs": [
    {
     "data": {
      "text/plain": [
       "'218.30.54.57.csv'"
      ]
     },
     "execution_count": 13,
     "metadata": {},
     "output_type": "execute_result"
    }
   ],
   "source": [
    "caida1"
   ]
  },
  {
   "cell_type": "code",
   "execution_count": 14,
   "id": "8ffb38a7",
   "metadata": {},
   "outputs": [
    {
     "name": "stdout",
     "output_type": "stream",
     "text": [
      "10.252.10.254.csv   129.250.3.27.csv   129.250.8.42.csv    196.200.124.26.csv\r\n",
      "113.197.15.146.csv  129.250.3.48.csv   134.222.155.84.csv  196.36.50.153.csv\r\n",
      "113.197.15.56.csv   129.250.4.118.csv  134.222.48.14.csv   218.30.54.56.csv\r\n",
      "128.223.2.58.csv    129.250.4.33.csv   134.222.48.200.csv  218.30.54.57.csv\r\n",
      "129.250.3.103.csv   129.250.5.32.csv   134.222.48.230.csv  62.115.12.52.csv\r\n",
      "129.250.3.121.csv   129.250.7.33.csv   134.222.48.232.csv  64.57.21.53.csv\r\n"
     ]
    }
   ],
   "source": [
    "%ls"
   ]
  },
  {
   "cell_type": "code",
   "execution_count": 15,
   "id": "62e282bc",
   "metadata": {},
   "outputs": [],
   "source": [
    "os.chdir(path_proj)"
   ]
  },
  {
   "cell_type": "code",
   "execution_count": 16,
   "id": "6424409d",
   "metadata": {},
   "outputs": [
    {
     "name": "stdout",
     "output_type": "stream",
     "text": [
      " \u001b[0m\u001b[01;34mcaida_processed\u001b[0m/  'Explore anonymize CAIDA .ipynb'\r\n"
     ]
    }
   ],
   "source": [
    "%ls"
   ]
  },
  {
   "cell_type": "code",
   "execution_count": 17,
   "id": "38e8284b",
   "metadata": {},
   "outputs": [],
   "source": [
    "path_caida1 = path /'pu_caida' / 'caida_datasets' / caida1"
   ]
  },
  {
   "cell_type": "code",
   "execution_count": 18,
   "id": "3ca2a47a",
   "metadata": {},
   "outputs": [
    {
     "data": {
      "text/plain": [
       "PosixPath('/home/users/ylavinia/632_pul/pulearn/pu_caida/caida_datasets/218.30.54.57.csv')"
      ]
     },
     "execution_count": 18,
     "metadata": {},
     "output_type": "execute_result"
    }
   ],
   "source": [
    "path_caida1"
   ]
  },
  {
   "cell_type": "code",
   "execution_count": 19,
   "id": "c9b5ed17",
   "metadata": {},
   "outputs": [],
   "source": [
    "cdata1 = pd.read_csv(path_caida1)"
   ]
  },
  {
   "cell_type": "code",
   "execution_count": 20,
   "id": "28d60385",
   "metadata": {},
   "outputs": [
    {
     "data": {
      "text/html": [
       "<div>\n",
       "<style scoped>\n",
       "    .dataframe tbody tr th:only-of-type {\n",
       "        vertical-align: middle;\n",
       "    }\n",
       "\n",
       "    .dataframe tbody tr th {\n",
       "        vertical-align: top;\n",
       "    }\n",
       "\n",
       "    .dataframe thead th {\n",
       "        text-align: right;\n",
       "    }\n",
       "</style>\n",
       "<table border=\"1\" class=\"dataframe\">\n",
       "  <thead>\n",
       "    <tr style=\"text-align: right;\">\n",
       "      <th></th>\n",
       "      <th>Unnamed: 0</th>\n",
       "      <th>datetime</th>\n",
       "      <th>rtt</th>\n",
       "    </tr>\n",
       "  </thead>\n",
       "  <tbody>\n",
       "    <tr>\n",
       "      <th>0</th>\n",
       "      <td>0</td>\n",
       "      <td>2019-03-23 00:01:58</td>\n",
       "      <td>113.508</td>\n",
       "    </tr>\n",
       "    <tr>\n",
       "      <th>1</th>\n",
       "      <td>1</td>\n",
       "      <td>2019-03-23 00:02:02</td>\n",
       "      <td>89.161</td>\n",
       "    </tr>\n",
       "    <tr>\n",
       "      <th>2</th>\n",
       "      <td>2</td>\n",
       "      <td>2019-03-23 00:02:04</td>\n",
       "      <td>101.786</td>\n",
       "    </tr>\n",
       "    <tr>\n",
       "      <th>3</th>\n",
       "      <td>3</td>\n",
       "      <td>2019-03-23 00:02:08</td>\n",
       "      <td>103.252</td>\n",
       "    </tr>\n",
       "    <tr>\n",
       "      <th>4</th>\n",
       "      <td>4</td>\n",
       "      <td>2019-03-23 00:02:09</td>\n",
       "      <td>88.930</td>\n",
       "    </tr>\n",
       "  </tbody>\n",
       "</table>\n",
       "</div>"
      ],
      "text/plain": [
       "   Unnamed: 0             datetime      rtt\n",
       "0           0  2019-03-23 00:01:58  113.508\n",
       "1           1  2019-03-23 00:02:02   89.161\n",
       "2           2  2019-03-23 00:02:04  101.786\n",
       "3           3  2019-03-23 00:02:08  103.252\n",
       "4           4  2019-03-23 00:02:09   88.930"
      ]
     },
     "execution_count": 20,
     "metadata": {},
     "output_type": "execute_result"
    }
   ],
   "source": [
    "cdata1.head(5)"
   ]
  },
  {
   "cell_type": "markdown",
   "id": "f3774e80",
   "metadata": {},
   "source": [
    "#### Rename datasets with unidentifying names"
   ]
  },
  {
   "cell_type": "code",
   "execution_count": 21,
   "id": "73f0e1a7",
   "metadata": {},
   "outputs": [
    {
     "name": "stdout",
     "output_type": "stream",
     "text": [
      "name:  dataset_000.csv\n",
      "name:  dataset_001.csv\n",
      "name:  dataset_002.csv\n",
      "name:  dataset_003.csv\n",
      "name:  dataset_004.csv\n",
      "name:  dataset_005.csv\n",
      "name:  dataset_006.csv\n",
      "name:  dataset_007.csv\n",
      "name:  dataset_008.csv\n",
      "name:  dataset_009.csv\n",
      "name:  dataset_010.csv\n",
      "name:  dataset_011.csv\n",
      "name:  dataset_012.csv\n",
      "name:  dataset_013.csv\n",
      "name:  dataset_014.csv\n",
      "name:  dataset_015.csv\n",
      "name:  dataset_016.csv\n",
      "name:  dataset_017.csv\n",
      "name:  dataset_018.csv\n",
      "name:  dataset_019.csv\n",
      "name:  dataset_020.csv\n",
      "name:  dataset_021.csv\n",
      "name:  dataset_022.csv\n",
      "name:  dataset_023.csv\n"
     ]
    }
   ],
   "source": [
    "datact = 0\n",
    "prefix = '0'\n",
    "anon_caida_name = []\n",
    "\n",
    "for cd in caida_data:\n",
    "    os.chdir(path_caida)\n",
    "    if datact < 10:\n",
    "        prefix = '00'\n",
    "    elif datact >= 100:\n",
    "        prefix = ''\n",
    "    else: \n",
    "        prefix = '0'\n",
    "        \n",
    "    name = 'dataset_'\n",
    "    name = name + prefix + str(datact) + '.csv'\n",
    "    anon_df = pd.read_csv(cd)\n",
    "    \n",
    "    # write data to csv and rename\n",
    "    os.chdir(path_proj / 'caida_processed')\n",
    "    anon_df.to_csv(name, encoding='utf-8', index=False, header=False)\n",
    "    anon_caida_name.append(name)\n",
    "    print(\"name: \",name)\n",
    "    \n",
    "    datact += 1"
   ]
  },
  {
   "cell_type": "code",
   "execution_count": null,
   "id": "4e569c04",
   "metadata": {},
   "outputs": [],
   "source": []
  }
 ],
 "metadata": {
  "kernelspec": {
   "display_name": "pul-env",
   "language": "python",
   "name": "pul-env"
  },
  "language_info": {
   "codemirror_mode": {
    "name": "ipython",
    "version": 3
   },
   "file_extension": ".py",
   "mimetype": "text/x-python",
   "name": "python",
   "nbconvert_exporter": "python",
   "pygments_lexer": "ipython3",
   "version": "3.9.7"
  }
 },
 "nbformat": 4,
 "nbformat_minor": 5
}
