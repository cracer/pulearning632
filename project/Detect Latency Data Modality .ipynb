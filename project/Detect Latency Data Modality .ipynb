{
 "cells": [
  {
   "cell_type": "code",
   "execution_count": 1,
   "id": "9d05d679",
   "metadata": {},
   "outputs": [],
   "source": [
    "import os, sys, glob\n",
    "import matplotlib.pyplot as plt\n",
    "%matplotlib inline\n",
    "from sklearn.ensemble import RandomForestClassifier\n",
    "from sklearn.metrics import precision_recall_fscore_support\n",
    "from pathlib import Path\n",
    "import pandas as pd\n",
    "import numpy as np\n",
    "from emerge_comparison import detect_modality, find_thresholds, create_synthetic_data\n",
    "\n",
    "import warnings\n",
    "warnings.filterwarnings(\"ignore\")"
   ]
  },
  {
   "cell_type": "code",
   "execution_count": 2,
   "id": "d44ff244",
   "metadata": {},
   "outputs": [],
   "source": [
    "path = Path('/home/users/ylavinia/632_pul/pulearn/')"
   ]
  },
  {
   "cell_type": "code",
   "execution_count": 3,
   "id": "02255b33",
   "metadata": {},
   "outputs": [],
   "source": [
    "path_proj = path / 'project'"
   ]
  },
  {
   "cell_type": "code",
   "execution_count": 4,
   "id": "372a71c4",
   "metadata": {},
   "outputs": [
    {
     "data": {
      "text/plain": [
       "PosixPath('/home/users/ylavinia/632_pul/pulearn/project')"
      ]
     },
     "execution_count": 4,
     "metadata": {},
     "output_type": "execute_result"
    }
   ],
   "source": [
    "path_proj"
   ]
  },
  {
   "cell_type": "code",
   "execution_count": 5,
   "id": "5fd72a91",
   "metadata": {},
   "outputs": [],
   "source": [
    "path_caida = path / 'pu_caida' / 'caida_datasets'"
   ]
  },
  {
   "cell_type": "code",
   "execution_count": 6,
   "id": "56b0608e",
   "metadata": {},
   "outputs": [
    {
     "data": {
      "text/plain": [
       "PosixPath('/home/users/ylavinia/632_pul/pulearn/pu_caida/caida_datasets')"
      ]
     },
     "execution_count": 6,
     "metadata": {},
     "output_type": "execute_result"
    }
   ],
   "source": [
    "path_caida"
   ]
  },
  {
   "cell_type": "code",
   "execution_count": 7,
   "id": "87aed1d8",
   "metadata": {},
   "outputs": [],
   "source": [
    "path_proc_caida = path / 'project' / 'caida_processed'"
   ]
  },
  {
   "cell_type": "code",
   "execution_count": 8,
   "id": "f265c5be",
   "metadata": {},
   "outputs": [],
   "source": [
    "os.chdir(path_proc_caida)"
   ]
  },
  {
   "cell_type": "code",
   "execution_count": 9,
   "id": "96b93193",
   "metadata": {},
   "outputs": [],
   "source": [
    "path_caida_subsets = path_proj / 'caida_subsets'"
   ]
  },
  {
   "cell_type": "code",
   "execution_count": 10,
   "id": "83c6a90e",
   "metadata": {},
   "outputs": [
    {
     "name": "stdout",
     "output_type": "stream",
     "text": [
      "\u001b[0m\u001b[01;34mcaida_subsets\u001b[0m/   dataset_006.csv  dataset_013.csv  dataset_020.csv\r\n",
      "dataset_000.csv  dataset_007.csv  dataset_014.csv  dataset_021.csv\r\n",
      "dataset_001.csv  dataset_008.csv  dataset_015.csv  dataset_022.csv\r\n",
      "dataset_002.csv  dataset_009.csv  dataset_016.csv  dataset_023.csv\r\n",
      "dataset_003.csv  dataset_010.csv  dataset_017.csv\r\n",
      "dataset_004.csv  dataset_011.csv  dataset_018.csv\r\n",
      "dataset_005.csv  dataset_012.csv  dataset_019.csv\r\n"
     ]
    }
   ],
   "source": [
    "%ls"
   ]
  },
  {
   "cell_type": "code",
   "execution_count": null,
   "id": "6ef046da",
   "metadata": {},
   "outputs": [],
   "source": []
  }
 ],
 "metadata": {
  "kernelspec": {
   "display_name": "pul-env",
   "language": "python",
   "name": "pul-env"
  },
  "language_info": {
   "codemirror_mode": {
    "name": "ipython",
    "version": 3
   },
   "file_extension": ".py",
   "mimetype": "text/x-python",
   "name": "python",
   "nbconvert_exporter": "python",
   "pygments_lexer": "ipython3",
   "version": "3.9.7"
  }
 },
 "nbformat": 4,
 "nbformat_minor": 5
}
